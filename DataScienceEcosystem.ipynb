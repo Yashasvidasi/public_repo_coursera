{
  "metadata": {
    "language_info": {
      "codemirror_mode": {
        "name": "python",
        "version": 3
      },
      "file_extension": ".py",
      "mimetype": "text/x-python",
      "name": "python",
      "nbconvert_exporter": "python",
      "pygments_lexer": "ipython3",
      "version": "3.8"
    },
    "kernelspec": {
      "name": "python",
      "display_name": "Python (Pyodide)",
      "language": "python"
    }
  },
  "nbformat_minor": 4,
  "nbformat": 4,
  "cells": [
    {
      "cell_type": "markdown",
      "source": "<H1> Data Science Tools and Ecosystem  </H1>",
      "metadata": {}
    },
    {
      "cell_type": "markdown",
      "source": "\n<br>\n<body>\nIn this notebook, Data Science Tools and Ecosystem are summarized.\n    <br>\n    <br>\n</body>",
      "metadata": {}
    },
    {
      "cell_type": "markdown",
      "source": "**Objectives:**\n<br>\n1.) List popular languages of data Science\n<br>\n2.) List commonly used libraries that Data Scientists use\n<br>\n3.) List Data Science Tools",
      "metadata": {}
    },
    {
      "cell_type": "markdown",
      "source": "<body>\n    Some of the popular languages that Data Scientists use are:\n    <br>\n    1.) Python\n    <br>\n    2.) SQL\n    <br>\n    3.) R\n    <br>\n    4.) Julia\n    <br>\n    some other prominent ones: c++, scala\n</body>\n<br>\n<br>",
      "metadata": {}
    },
    {
      "cell_type": "markdown",
      "source": "Some of the commonly used libraries used by Data Scientists include:\n<body>\n    <b> For python </b>\n    <br>\n    pandas, numpy (scientefic computing libraries)\n    <br>\n    matplotlib, seaborn (Data Vizualization)\n    <br>\n    keras (deep learning)\n    <br>\n    scikit-learn (machine learning), tensorflow, pytorch\n    <br>\n    <br>\n    <b> scala </b>\n    <br>\n    vegas (data visualization)\n    <br>\n    bigDL (deep learning)\n    <br>\n    <br>\n    <b> R </b>\n    <br>\n    ggplot (data visualization)\n    <br>\n    keras\n    <br>\n    tensorflow\n    <br>\n    <br>\n    <br>\n    </body>\n    \n    \n    ",
      "metadata": {}
    },
    {
      "cell_type": "markdown",
      "source": "| Data Science Tools |\n|:-------------------|\n|Apache Zeppelin\n|Jupyter|\n|RStudio|\n\n\n<br>",
      "metadata": {}
    },
    {
      "cell_type": "markdown",
      "source": "<h3> Below are a few examples of evaluating arithmetic expressions in Python. </h3>\n<body>\n(34+90/8*5-12) <br> (2/5*6+12-3)\n\n</body>\n<br>\n<br>",
      "metadata": {}
    },
    {
      "cell_type": "code",
      "source": "a = (3*4)+5\n\n#This a simple arithmetic expression to mutiply then add integers.\n\nprint(a)",
      "metadata": {
        "trusted": true
      },
      "execution_count": 9,
      "outputs": [
        {
          "name": "stdout",
          "text": "17\n",
          "output_type": "stream"
        }
      ]
    },
    {
      "cell_type": "code",
      "source": "min = 200\n\n#This will convert 200 minutes to hours by diving by 60\n\nhr = min/60\n\nprint(round(hr,2), \"hours\")",
      "metadata": {
        "trusted": true
      },
      "execution_count": 10,
      "outputs": [
        {
          "name": "stdout",
          "text": "3.33 hours\n",
          "output_type": "stream"
        }
      ]
    },
    {
      "cell_type": "markdown",
      "source": "<h2> Author </h2>\nYashasvi Dasi",
      "metadata": {}
    }
  ]
}